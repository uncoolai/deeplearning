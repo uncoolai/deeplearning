{
 "cells": [
  {
   "cell_type": "code",
   "execution_count": 14,
   "metadata": {
    "collapsed": true
   },
   "outputs": [],
   "source": [
    "import torch\n",
    "from torchvision import datasets,transforms\n",
    "\n",
    "transform = transforms.Compose([transforms.ToTensor(), transforms.Normalize((0.5,0.5,0.5),(0.5,0.5,0.5))])\n",
    "trainset = datasets.FashionMNIST('~/.pytorch/F_MNSIT_data/',download=True,train=True,transform=transform)\n",
    "trainloader = torch.utils.data.DataLoader(trainset,batch_size=64,shuffle=True)\n",
    "testset = datasets.FashionMNIST('~/.pytorch/F_MNSIT_data/',download=True,train=False,transform=transform)\n",
    "testloader = torch.utils.data.DataLoader(testset,batch_size=64,shuffle=True)"
   ]
  },
  {
   "cell_type": "code",
   "execution_count": 15,
   "metadata": {
    "collapsed": true
   },
   "outputs": [],
   "source": [
    "from torch import nn\n",
    "# Network architecture \n",
    "model = nn.Sequential(nn.Linear(784,128),\n",
    "                      nn.ReLU(),\n",
    "                      nn.Linear(128,64),\n",
    "                      nn.ReLU(),\n",
    "                      nn.Linear(64,10),\n",
    "                      nn.LogSoftmax(dim=1))"
   ]
  },
  {
   "cell_type": "code",
   "execution_count": 16,
   "metadata": {
    "collapsed": true
   },
   "outputs": [],
   "source": [
    "from torch import optim\n",
    "# Definiing the criterion and optimiser\n",
    "criterion = nn.NLLLoss()\n",
    "optimizer = optim.Adam(model.parameters(), lr=0.005)"
   ]
  },
  {
   "cell_type": "code",
   "execution_count": 17,
   "metadata": {},
   "outputs": [
    {
     "name": "stdout",
     "output_type": "stream",
     "text": [
      "Epoch: 1/30..  Training Loss: 0.510..  Test Loss: 0.452..  Test Accuracy: 0.833\n",
      "Epoch: 2/30..  Training Loss: 0.397..  Test Loss: 0.437..  Test Accuracy: 0.843\n",
      "Epoch: 3/30..  Training Loss: 0.373..  Test Loss: 0.405..  Test Accuracy: 0.855\n",
      "Epoch: 4/30..  Training Loss: 0.354..  Test Loss: 0.424..  Test Accuracy: 0.850\n",
      "Epoch: 5/30..  Training Loss: 0.342..  Test Loss: 0.386..  Test Accuracy: 0.864\n",
      "Epoch: 6/30..  Training Loss: 0.329..  Test Loss: 0.413..  Test Accuracy: 0.863\n",
      "Epoch: 7/30..  Training Loss: 0.324..  Test Loss: 0.420..  Test Accuracy: 0.856\n",
      "Epoch: 8/30..  Training Loss: 0.317..  Test Loss: 0.383..  Test Accuracy: 0.870\n",
      "Epoch: 9/30..  Training Loss: 0.310..  Test Loss: 0.440..  Test Accuracy: 0.856\n",
      "Epoch: 10/30..  Training Loss: 0.301..  Test Loss: 0.401..  Test Accuracy: 0.866\n",
      "Epoch: 11/30..  Training Loss: 0.298..  Test Loss: 0.408..  Test Accuracy: 0.859\n",
      "Epoch: 12/30..  Training Loss: 0.292..  Test Loss: 0.394..  Test Accuracy: 0.869\n",
      "Epoch: 13/30..  Training Loss: 0.289..  Test Loss: 0.370..  Test Accuracy: 0.875\n",
      "Epoch: 14/30..  Training Loss: 0.284..  Test Loss: 0.399..  Test Accuracy: 0.864\n",
      "Epoch: 15/30..  Training Loss: 0.284..  Test Loss: 0.388..  Test Accuracy: 0.871\n",
      "Epoch: 16/30..  Training Loss: 0.276..  Test Loss: 0.417..  Test Accuracy: 0.866\n",
      "Epoch: 17/30..  Training Loss: 0.277..  Test Loss: 0.396..  Test Accuracy: 0.869\n",
      "Epoch: 18/30..  Training Loss: 0.270..  Test Loss: 0.399..  Test Accuracy: 0.875\n",
      "Epoch: 19/30..  Training Loss: 0.267..  Test Loss: 0.423..  Test Accuracy: 0.871\n",
      "Epoch: 20/30..  Training Loss: 0.263..  Test Loss: 0.409..  Test Accuracy: 0.868\n",
      "Epoch: 21/30..  Training Loss: 0.261..  Test Loss: 0.449..  Test Accuracy: 0.865\n",
      "Epoch: 22/30..  Training Loss: 0.257..  Test Loss: 0.445..  Test Accuracy: 0.867\n",
      "Epoch: 23/30..  Training Loss: 0.260..  Test Loss: 0.407..  Test Accuracy: 0.873\n",
      "Epoch: 24/30..  Training Loss: 0.255..  Test Loss: 0.428..  Test Accuracy: 0.862\n",
      "Epoch: 25/30..  Training Loss: 0.254..  Test Loss: 0.412..  Test Accuracy: 0.872\n",
      "Epoch: 26/30..  Training Loss: 0.250..  Test Loss: 0.415..  Test Accuracy: 0.871\n",
      "Epoch: 27/30..  Training Loss: 0.254..  Test Loss: 0.450..  Test Accuracy: 0.871\n",
      "Epoch: 28/30..  Training Loss: 0.248..  Test Loss: 0.432..  Test Accuracy: 0.865\n",
      "Epoch: 29/30..  Training Loss: 0.242..  Test Loss: 0.414..  Test Accuracy: 0.870\n",
      "Epoch: 30/30..  Training Loss: 0.250..  Test Loss: 0.466..  Test Accuracy: 0.866\n"
     ]
    }
   ],
   "source": [
    "epochs = 30\n",
    "steps = 0\n",
    "train_losses, test_losses = [], []\n",
    "for e in range(epochs):\n",
    "    running_loss = 0\n",
    "    for images, labels in trainloader:        \n",
    "        optimizer.zero_grad()\n",
    "        images = images.view(images.shape[0],-1)\n",
    "        log_ps = model(images)\n",
    "        loss = criterion(log_ps, labels)\n",
    "        loss.backward()\n",
    "        optimizer.step()        \n",
    "        running_loss += loss.item()        \n",
    "    else:\n",
    "        test_loss = 0\n",
    "        accuracy = 0        \n",
    "        # Turn off gradients for validation, saves memory and computations\n",
    "        with torch.no_grad():\n",
    "            for images, labels in testloader:\n",
    "                images = images.view(images.shape[0],-1)\n",
    "                log_ps = model(images)\n",
    "                test_loss += criterion(log_ps, labels)                \n",
    "                ps = torch.exp(log_ps)\n",
    "                top_p, top_class = ps.topk(1, dim=1)\n",
    "                equals = top_class == labels.view(*top_class.shape)\n",
    "                accuracy += torch.mean(equals.type(torch.FloatTensor))                \n",
    "        train_losses.append(running_loss/len(trainloader))\n",
    "        test_losses.append(test_loss/len(testloader))\n",
    "        print(\"Epoch: {}/{}.. \".format(e+1, epochs),\n",
    "              \"Training Loss: {:.3f}.. \".format(running_loss/len(trainloader)),\n",
    "              \"Test Loss: {:.3f}.. \".format(test_loss/len(testloader)),\n",
    "              \"Test Accuracy: {:.3f}\".format(accuracy/len(testloader)))"
   ]
  },
  {
   "cell_type": "code",
   "execution_count": null,
   "metadata": {
    "collapsed": true
   },
   "outputs": [],
   "source": []
  }
 ],
 "metadata": {
  "kernelspec": {
   "display_name": "Python 3",
   "language": "python",
   "name": "python3"
  },
  "language_info": {
   "codemirror_mode": {
    "name": "ipython",
    "version": 3
   },
   "file_extension": ".py",
   "mimetype": "text/x-python",
   "name": "python",
   "nbconvert_exporter": "python",
   "pygments_lexer": "ipython3",
   "version": "3.6.3"
  }
 },
 "nbformat": 4,
 "nbformat_minor": 2
}
